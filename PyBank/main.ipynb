{
 "cells": [
  {
   "cell_type": "code",
   "execution_count": 18,
   "id": "6d71f430-700f-4f01-8b73-c045190c9ed1",
   "metadata": {},
   "outputs": [],
   "source": [
    "from pathlib import Path\n",
    "import csv\n",
    "\n",
    "csvpath = Path('../Resources/budget_data.csv')"
   ]
  },
  {
   "cell_type": "code",
   "execution_count": 30,
   "id": "b7b7b12b-9b30-4c7d-b62b-eee4727cfb57",
   "metadata": {
    "tags": []
   },
   "outputs": [],
   "source": [
    "# Import the Path and csv\n",
    "from pathlib import Path\n",
    "import csv"
   ]
  },
  {
   "cell_type": "code",
   "execution_count": 25,
   "id": "1f299f9c-6b2b-44c5-b04e-7b976d472f4d",
   "metadata": {
    "tags": []
   },
   "outputs": [],
   "source": [
    "# Set the file path\n",
    "csvpath = Path('../Resources/budget_data.csv')"
   ]
  },
  {
   "cell_type": "code",
   "execution_count": 26,
   "id": "59feec48-7ef1-40a6-a9c5-0e78ed10c982",
   "metadata": {},
   "outputs": [],
   "source": [
    "# Initialize months_count\n",
    "months_count = 0"
   ]
  }
 ],
 "metadata": {
  "kernelspec": {
   "display_name": "Python 3 (ipykernel)",
   "language": "python",
   "name": "python3"
  },
  "language_info": {
   "codemirror_mode": {
    "name": "ipython",
    "version": 3
   },
   "file_extension": ".py",
   "mimetype": "text/x-python",
   "name": "python",
   "nbconvert_exporter": "python",
   "pygments_lexer": "ipython3",
   "version": "3.10.11"
  }
 },
 "nbformat": 4,
 "nbformat_minor": 5
}
