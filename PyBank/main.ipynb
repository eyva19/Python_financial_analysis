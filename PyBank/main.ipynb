{
 "cells": [
  {
   "cell_type": "code",
   "execution_count": 1,
   "id": "b7b7b12b-9b30-4c7d-b62b-eee4727cfb57",
   "metadata": {
    "tags": []
   },
   "outputs": [],
   "source": [
    "# Import the Path, csv and sys \n",
    "from pathlib import Path\n",
    "import csv\n",
    "import sys"
   ]
  },
  {
   "cell_type": "code",
   "execution_count": 2,
   "id": "1f299f9c-6b2b-44c5-b04e-7b976d472f4d",
   "metadata": {
    "tags": []
   },
   "outputs": [],
   "source": [
    "# Set the file path\n",
    "csvpath = Path('/Users/eyva/Desktop/Repos/python-challenge/Resources/budget_data.csv')"
   ]
  },
  {
   "cell_type": "code",
   "execution_count": 3,
   "id": "e98c9b70-b5d5-4678-9733-974494c65feb",
   "metadata": {
    "tags": []
   },
   "outputs": [],
   "source": [
    "# Initialize metric variables\n",
    "months_count = 0\n",
    "increase = 0\n",
    "decrease = 0\n",
    "increase_month = ''\n",
    "decrease_month = ''\n",
    "average = 0\n",
    "total = 0\n",
    "total_change = 0\n",
    "last_month_profit_loss = 0\n",
    "\n",
    "# open the input path as a file object\n",
    "with open(csvpath, 'r') as csvfile:\n",
    "    # Creating csvreader based on csvfile\n",
    "    csvreader = csv.reader(csvfile, delimiter=',')\n",
    "   \n",
    "    # Print the first row as header\n",
    "    header = next(csvreader)\n",
    "\n",
    "    # Read each row of data after the header, increment months_count\n",
    "    for row in csvreader:\n",
    "        months_count += 1\n",
    "        profit_loss = int(row[1])\n",
    "        month = row[0]\n",
    "\n",
    "        # Add to total amount after converting the value in the 2th column of each row to integer\n",
    "        total += profit_loss\n",
    "\n",
    "        if last_month_profit_loss != 0:\n",
    "            delta = profit_loss - last_month_profit_loss\n",
    "            total_change += delta\n",
    "\n",
    "            # Calculate the greatest increase, decrease\n",
    "            if delta < decrease:\n",
    "                decrease = delta\n",
    "                decrease_month = month\n",
    "            elif delta > increase:\n",
    "                increase = delta\n",
    "                increase_month = month\n",
    "        \n",
    "        # To have correct value for last month during the next iteration of for loop\n",
    "        last_month_profit_loss = profit_loss"
   ]
  },
  {
   "cell_type": "code",
   "execution_count": 4,
   "id": "a663b713-1fe9-43b6-89fa-75dbf3169ba7",
   "metadata": {
    "tags": []
   },
   "outputs": [],
   "source": [
    "# Calculate the average profit & losses, round to the nearest 2 decimal places\n",
    "average = round(total_change / (months_count - 1), 2)"
   ]
  },
  {
   "cell_type": "code",
   "execution_count": 5,
   "id": "724ca7fb-4c36-421e-add0-d79bde92244e",
   "metadata": {
    "tags": []
   },
   "outputs": [
    {
     "name": "stdout",
     "output_type": "stream",
     "text": [
      "38382578 1926159 -2196167 -2315.12\n"
     ]
    }
   ],
   "source": [
    "# Print the metrics\n",
    "print(total, increase, decrease, average)"
   ]
  },
  {
   "cell_type": "code",
   "execution_count": 6,
   "id": "11bb5526-9e57-4b39-acdd-059d8d5504fd",
   "metadata": {
    "tags": []
   },
   "outputs": [],
   "source": [
    "def print_report(months_count, total, average, increase_month, increase, decrease_month, decrease):\n",
    "    print(\"Financial Analysis\")\n",
    "    print(\"----------------------------\")\n",
    "    print(f\"Total Months: {months_count}\")\n",
    "    print(f\"Total: ${total}\")\n",
    "    print(f\"Average Change: ${average}\")\n",
    "    print(f\"Greatest Increase in Profits: {increase_month} (${increase})\")\n",
    "    print(f\"Greatest Decrease in Profits: {decrease_month} (${decrease})\")"
   ]
  },
  {
   "cell_type": "code",
   "execution_count": 7,
   "id": "68f4a665-3fc6-4144-8b27-7dc33e955b20",
   "metadata": {
    "tags": []
   },
   "outputs": [],
   "source": [
    "# Save a reference to the original standard output\n",
    "original_stdout = sys.stdout \n",
    "\n",
    "# Change the standard output to the file we created:\n",
    "with open('results.txt', 'w') as f:\n",
    "    sys.stdout = f\n",
    "\n",
    "    # Export a text file with the results\n",
    "    print_report(months_count, total, average, increase_month, increase, decrease_month, decrease)\n",
    "    \n",
    "# Reset the standard output to its original value\n",
    "sys.stdout = original_stdout     "
   ]
  },
  {
   "cell_type": "code",
   "execution_count": 8,
   "id": "4959c1e6-496c-4797-8a8f-c21e534bfb62",
   "metadata": {
    "tags": []
   },
   "outputs": [
    {
     "name": "stdout",
     "output_type": "stream",
     "text": [
      "Financial Analysis\n",
      "----------------------------\n",
      "Total Months: 86\n",
      "Total: $38382578\n",
      "Average Change: $-2315.12\n",
      "Greatest Increase in Profits: Feb-2012 ($1926159)\n",
      "Greatest Decrease in Profits: Sep-2013 ($-2196167)\n"
     ]
    }
   ],
   "source": [
    "# Print results to terminal output\n",
    "print_report(months_count, total, average, increase_month, increase, decrease_month, decrease)"
   ]
  }
 ],
 "metadata": {
  "kernelspec": {
   "display_name": "Python 3 (ipykernel)",
   "language": "python",
   "name": "python3"
  },
  "language_info": {
   "codemirror_mode": {
    "name": "ipython",
    "version": 3
   },
   "file_extension": ".py",
   "mimetype": "text/x-python",
   "name": "python",
   "nbconvert_exporter": "python",
   "pygments_lexer": "ipython3",
   "version": "3.10.11"
  }
 },
 "nbformat": 4,
 "nbformat_minor": 5
}
